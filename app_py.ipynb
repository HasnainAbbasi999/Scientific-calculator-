{
  "nbformat": 4,
  "nbformat_minor": 0,
  "metadata": {
    "colab": {
      "provenance": [],
      "authorship_tag": "ABX9TyMynryBA+YgyhCW6HYgYOj8",
      "include_colab_link": true
    },
    "kernelspec": {
      "name": "python3",
      "display_name": "Python 3"
    },
    "language_info": {
      "name": "python"
    }
  },
  "cells": [
    {
      "cell_type": "markdown",
      "metadata": {
        "id": "view-in-github",
        "colab_type": "text"
      },
      "source": [
        "<a href=\"https://colab.research.google.com/github/HasnainAbbasi999/Scientific-calculator-/blob/main/app_py.ipynb\" target=\"_parent\"><img src=\"https://colab.research.google.com/assets/colab-badge.svg\" alt=\"Open In Colab\"/></a>"
      ]
    },
    {
      "cell_type": "code",
      "execution_count": 2,
      "metadata": {
        "colab": {
          "base_uri": "https://localhost:8080/"
        },
        "id": "Kik0sI7UPYo7",
        "outputId": "0d30ddeb-1320-4d44-b0bc-fb598fc28b01"
      },
      "outputs": [
        {
          "output_type": "stream",
          "name": "stdout",
          "text": [
            "Scientific Calculator\n",
            "----------------------\n",
            "Select operation:\n",
            "1. Add\n",
            "2. Subtract\n",
            "3. Multiply\n",
            "4. Divide\n",
            "5. Power\n",
            "6. Square Root\n",
            "7. Sine\n",
            "8. Cosine\n",
            "9. Tangent\n",
            "10. Logarithm\n",
            "Enter choice (1-10): 7\n",
            "Enter angle in degrees: 90\n",
            "Sine(90.0) = 1.0\n"
          ]
        }
      ],
      "source": [
        "import math\n",
        "\n",
        "# Define functions for basic and scientific operations\n",
        "def add(x, y):\n",
        "    return x + y\n",
        "\n",
        "def subtract(x, y):\n",
        "    return x - y\n",
        "\n",
        "def multiply(x, y):\n",
        "    return x * y\n",
        "\n",
        "def divide(x, y):\n",
        "    if y == 0:\n",
        "        return \"Error! Division by zero.\"\n",
        "    else:\n",
        "        return x / y\n",
        "\n",
        "def power(x, y):\n",
        "    return math.pow(x, y)\n",
        "\n",
        "def sqrt(x):\n",
        "    return math.sqrt(x)\n",
        "\n",
        "def sine(x):\n",
        "    return math.sin(math.radians(x))\n",
        "\n",
        "def cosine(x):\n",
        "    return math.cos(math.radians(x))\n",
        "\n",
        "def tangent(x):\n",
        "    return math.tan(math.radians(x))\n",
        "\n",
        "def logarithm(x):\n",
        "    if x <= 0:\n",
        "        return \"Error! Logarithm undefined for non-positive values.\"\n",
        "    else:\n",
        "        return math.log10(x)\n",
        "\n",
        "# Scientific Calculator Function\n",
        "def scientific_calculator():\n",
        "    print(\"Scientific Calculator\")\n",
        "    print(\"----------------------\")\n",
        "    print(\"Select operation:\")\n",
        "    print(\"1. Add\")\n",
        "    print(\"2. Subtract\")\n",
        "    print(\"3. Multiply\")\n",
        "    print(\"4. Divide\")\n",
        "    print(\"5. Power\")\n",
        "    print(\"6. Square Root\")\n",
        "    print(\"7. Sine\")\n",
        "    print(\"8. Cosine\")\n",
        "    print(\"9. Tangent\")\n",
        "    print(\"10. Logarithm\")\n",
        "\n",
        "    choice = input(\"Enter choice (1-10): \")\n",
        "\n",
        "    if choice in ['1', '2', '3', '4', '5']:\n",
        "        num1 = float(input(\"Enter first number: \"))\n",
        "        num2 = float(input(\"Enter second number: \"))\n",
        "\n",
        "        if choice == '1':\n",
        "            print(f\"{num1} + {num2} = {add(num1, num2)}\")\n",
        "        elif choice == '2':\n",
        "            print(f\"{num1} - {num2} = {subtract(num1, num2)}\")\n",
        "        elif choice == '3':\n",
        "            print(f\"{num1} * {num2} = {multiply(num1, num2)}\")\n",
        "        elif choice == '4':\n",
        "            print(f\"{num1} / {num2} = {divide(num1, num2)}\")\n",
        "        elif choice == '5':\n",
        "            print(f\"{num1} ^ {num2} = {power(num1, num2)}\")\n",
        "\n",
        "    elif choice == '6':\n",
        "        num = float(input(\"Enter number: \"))\n",
        "        print(f\"Square root of {num} = {sqrt(num)}\")\n",
        "\n",
        "    elif choice in ['7', '8', '9']:\n",
        "        angle = float(input(\"Enter angle in degrees: \"))\n",
        "\n",
        "        if choice == '7':\n",
        "            print(f\"Sine({angle}) = {sine(angle)}\")\n",
        "        elif choice == '8':\n",
        "            print(f\"Cosine({angle}) = {cosine(angle)}\")\n",
        "        elif choice == '9':\n",
        "            print(f\"Tangent({angle}) = {tangent(angle)}\")\n",
        "\n",
        "    elif choice == '10':\n",
        "        num = float(input(\"Enter number: \"))\n",
        "        print(f\"Logarithm({num}) = {logarithm(num)}\")\n",
        "\n",
        "    else:\n",
        "        print(\"Invalid Input\")\n",
        "\n",
        "# Run the calculator\n",
        "scientific_calculator()\n"
      ]
    }
  ]
}